{
 "cells": [
  {
   "cell_type": "code",
   "execution_count": null,
   "metadata": {},
   "outputs": [],
   "source": [
    "class MPNeuron:\n",
    "    def __init__(self):\n",
    "        self.b=None\n",
    "    \n",
    "    def model(self,x):\n",
    "        return(sum(x)>=self.b)\n",
    "    \n",
    "    def predict(self,X):\n",
    "        Y=[]\n",
    "        for x in X:\n",
    "            result = self.model(x)\n",
    "            Y.append(result)\n",
    "            return np.array(Y)\n",
    "    def fit(self,X,Y):\n",
    "        accuracy = {}\n",
    "        \n",
    "        for b in range(X.shape[1]+1):\n",
    "            self.b=b\n",
    "\n",
    "            Y_pred = self.predict(X)\n",
    "            accuracy[b]=accuracy_score(Y_pred,Y) \n",
    "        best_b = max(Accuracy , key = accuracy.get)\n",
    "        self.b=best_b\n",
    "        \n",
    "        print('optimal vlalue of b is',best_b)\n",
    "        print('highist accuracy is',accuracy[best_b])"
   ]
  }
 ],
 "metadata": {
  "kernelspec": {
   "display_name": "Python 3",
   "language": "python",
   "name": "python3"
  },
  "language_info": {
   "codemirror_mode": {
    "name": "ipython",
    "version": 3
   },
   "file_extension": ".py",
   "mimetype": "text/x-python",
   "name": "python",
   "nbconvert_exporter": "python",
   "pygments_lexer": "ipython3",
   "version": "3.7.4"
  }
 },
 "nbformat": 4,
 "nbformat_minor": 4
}
