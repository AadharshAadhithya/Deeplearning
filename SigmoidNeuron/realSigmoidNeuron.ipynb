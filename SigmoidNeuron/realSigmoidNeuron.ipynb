{
 "cells": [
  {
   "cell_type": "code",
   "execution_count": 229,
   "metadata": {},
   "outputs": [],
   "source": [
    "import numpy as np\n",
    "import matplotlib.pyplot as plt\n",
    "import pandas as pd\n",
    "from sklearn.preprocessing import StandardScaler,MinMaxScaler\n",
    "from sklearn.model_selection import train_test_split\n",
    "from sklearn.metrics import mean_squared_error\n",
    "from tqdm import tqdm_notebook"
   ]
  },
  {
   "cell_type": "code",
   "execution_count": 231,
   "metadata": {},
   "outputs": [],
   "source": [
    "class SigmoidNeuron:\n",
    "    \n",
    "    def __init__(self):\n",
    "        self.W = None\n",
    "        self.B = None\n",
    "        \n",
    "    def perceptron(self,X):\n",
    "        return np.dot(X,(self.W.T))+ self.B\n",
    "        \n",
    "    def sigmoid(self,x):\n",
    "        return (1.0/(1.0+(np.exp(-(x)))))\n",
    "    \n",
    "    def grad_w(self,x,y):\n",
    "        fx = self.sigmoid(self.perceptron(x))\n",
    "        return (fx-y)*(1-fx)*(fx)*x\n",
    "    \n",
    "    def grad_b(self,x,y):\n",
    "        fx = self.sigmoid(self.perceptron(x))\n",
    "        return (fx-y)*(1-fx)*(fx)\n",
    "    \n",
    "    def predict(self,X):\n",
    "            Y_pred =[]\n",
    "            for x in X:\n",
    "                y_p = self.sigmoid(self.perceptron(x))\n",
    "                Y_pred.append(y_p)\n",
    "            return np.array(Y_pred)\n",
    "    \n",
    "    def fit(self,X,Y,epochs=1,learning_rate=1,initialise=False,display_loss=False):\n",
    "        if initialise:\n",
    "            self.W = np.random.randn(1,X.shape[1])\n",
    "            self.B=0\n",
    "        \n",
    "        if display_loss:\n",
    "            loss={}\n",
    "            \n",
    "        for i in tqdm_notebook(range(epochs),total=epochs,unit=\"epoch\"):\n",
    "            dw=0\n",
    "            db=0\n",
    "            for x,y in zip(X,Y):\n",
    "                dw+= self.grad_w(x,y)\n",
    "                db+= self.grad_b(x,y)\n",
    "            self.W -= learning_rate*dw\n",
    "            self.B -= learning_rate*db\n",
    "            \n",
    "            if display_loss:\n",
    "                Y_pred = self.sigmoid(self.perceptron(X))\n",
    "                loss[i]=mean_squared_error(Y_pred,Y)\n",
    "        if display_loss:\n",
    "            plt.plot(list(loss.values()))\n",
    "            plt.xlabel('Epochs')\n",
    "            plt.ylabel('Mean Squared Error')\n",
    "            plt.show()\n",
    "        \n",
    "  "
   ]
  },
  {
   "cell_type": "markdown",
   "metadata": {},
   "source": [
    "# load data"
   ]
  },
  {
   "cell_type": "code",
   "execution_count": 203,
   "metadata": {},
   "outputs": [],
   "source": [
    "data = pd.read_csv('mobile_cleaned.csv')"
   ]
  },
  {
   "cell_type": "code",
   "execution_count": 204,
   "metadata": {},
   "outputs": [
    {
     "data": {
      "text/html": [
       "<div>\n",
       "<style scoped>\n",
       "    .dataframe tbody tr th:only-of-type {\n",
       "        vertical-align: middle;\n",
       "    }\n",
       "\n",
       "    .dataframe tbody tr th {\n",
       "        vertical-align: top;\n",
       "    }\n",
       "\n",
       "    .dataframe thead th {\n",
       "        text-align: right;\n",
       "    }\n",
       "</style>\n",
       "<table border=\"1\" class=\"dataframe\">\n",
       "  <thead>\n",
       "    <tr style=\"text-align: right;\">\n",
       "      <th></th>\n",
       "      <th>PhoneId</th>\n",
       "      <th>Pixel Density</th>\n",
       "      <th>Screen Size</th>\n",
       "      <th>Weight</th>\n",
       "      <th>RAM</th>\n",
       "      <th>Processor_frequency</th>\n",
       "      <th>Screen to Body Ratio (calculated)</th>\n",
       "      <th>Height</th>\n",
       "      <th>Internal Memory</th>\n",
       "      <th>Capacity</th>\n",
       "      <th>...</th>\n",
       "      <th>os_name_Tizen</th>\n",
       "      <th>os_name_iOS</th>\n",
       "      <th>SIM Slot(s)_Dual SIM, GSM+CDMA</th>\n",
       "      <th>SIM Slot(s)_Dual SIM, GSM+GSM</th>\n",
       "      <th>SIM Slot(s)_Dual SIM, GSM+GSM, Dual VoLTE</th>\n",
       "      <th>SIM Slot(s)_Single SIM, GSM</th>\n",
       "      <th>Sim1_2G</th>\n",
       "      <th>Sim1_3G</th>\n",
       "      <th>Sim1_4G</th>\n",
       "      <th>Rating</th>\n",
       "    </tr>\n",
       "  </thead>\n",
       "  <tbody>\n",
       "    <tr>\n",
       "      <th>0</th>\n",
       "      <td>0</td>\n",
       "      <td>403</td>\n",
       "      <td>6.26</td>\n",
       "      <td>182</td>\n",
       "      <td>4</td>\n",
       "      <td>1.8</td>\n",
       "      <td>80.68</td>\n",
       "      <td>157.9</td>\n",
       "      <td>64</td>\n",
       "      <td>4000</td>\n",
       "      <td>...</td>\n",
       "      <td>0</td>\n",
       "      <td>0</td>\n",
       "      <td>0</td>\n",
       "      <td>0</td>\n",
       "      <td>1</td>\n",
       "      <td>0</td>\n",
       "      <td>0</td>\n",
       "      <td>0</td>\n",
       "      <td>1</td>\n",
       "      <td>4.5</td>\n",
       "    </tr>\n",
       "    <tr>\n",
       "      <th>1</th>\n",
       "      <td>1</td>\n",
       "      <td>271</td>\n",
       "      <td>6.20</td>\n",
       "      <td>168</td>\n",
       "      <td>3</td>\n",
       "      <td>1.8</td>\n",
       "      <td>80.85</td>\n",
       "      <td>156.2</td>\n",
       "      <td>32</td>\n",
       "      <td>4230</td>\n",
       "      <td>...</td>\n",
       "      <td>0</td>\n",
       "      <td>0</td>\n",
       "      <td>0</td>\n",
       "      <td>0</td>\n",
       "      <td>1</td>\n",
       "      <td>0</td>\n",
       "      <td>0</td>\n",
       "      <td>0</td>\n",
       "      <td>1</td>\n",
       "      <td>4.5</td>\n",
       "    </tr>\n",
       "    <tr>\n",
       "      <th>2</th>\n",
       "      <td>2</td>\n",
       "      <td>409</td>\n",
       "      <td>6.30</td>\n",
       "      <td>168</td>\n",
       "      <td>3</td>\n",
       "      <td>2.1</td>\n",
       "      <td>83.68</td>\n",
       "      <td>157.0</td>\n",
       "      <td>32</td>\n",
       "      <td>3500</td>\n",
       "      <td>...</td>\n",
       "      <td>0</td>\n",
       "      <td>0</td>\n",
       "      <td>0</td>\n",
       "      <td>0</td>\n",
       "      <td>1</td>\n",
       "      <td>0</td>\n",
       "      <td>0</td>\n",
       "      <td>0</td>\n",
       "      <td>1</td>\n",
       "      <td>4.4</td>\n",
       "    </tr>\n",
       "    <tr>\n",
       "      <th>3</th>\n",
       "      <td>4</td>\n",
       "      <td>411</td>\n",
       "      <td>6.00</td>\n",
       "      <td>169</td>\n",
       "      <td>4</td>\n",
       "      <td>2.2</td>\n",
       "      <td>74.78</td>\n",
       "      <td>159.8</td>\n",
       "      <td>64</td>\n",
       "      <td>3300</td>\n",
       "      <td>...</td>\n",
       "      <td>0</td>\n",
       "      <td>0</td>\n",
       "      <td>0</td>\n",
       "      <td>1</td>\n",
       "      <td>0</td>\n",
       "      <td>0</td>\n",
       "      <td>0</td>\n",
       "      <td>0</td>\n",
       "      <td>1</td>\n",
       "      <td>4.3</td>\n",
       "    </tr>\n",
       "    <tr>\n",
       "      <th>4</th>\n",
       "      <td>5</td>\n",
       "      <td>396</td>\n",
       "      <td>6.50</td>\n",
       "      <td>175</td>\n",
       "      <td>4</td>\n",
       "      <td>2.2</td>\n",
       "      <td>84.23</td>\n",
       "      <td>160.4</td>\n",
       "      <td>64</td>\n",
       "      <td>3750</td>\n",
       "      <td>...</td>\n",
       "      <td>0</td>\n",
       "      <td>0</td>\n",
       "      <td>0</td>\n",
       "      <td>0</td>\n",
       "      <td>1</td>\n",
       "      <td>0</td>\n",
       "      <td>0</td>\n",
       "      <td>0</td>\n",
       "      <td>1</td>\n",
       "      <td>4.4</td>\n",
       "    </tr>\n",
       "  </tbody>\n",
       "</table>\n",
       "<p>5 rows × 88 columns</p>\n",
       "</div>"
      ],
      "text/plain": [
       "   PhoneId  Pixel Density  Screen Size  Weight  RAM  Processor_frequency  \\\n",
       "0        0            403         6.26     182    4                  1.8   \n",
       "1        1            271         6.20     168    3                  1.8   \n",
       "2        2            409         6.30     168    3                  2.1   \n",
       "3        4            411         6.00     169    4                  2.2   \n",
       "4        5            396         6.50     175    4                  2.2   \n",
       "\n",
       "   Screen to Body Ratio (calculated)  Height  Internal Memory  Capacity  ...  \\\n",
       "0                              80.68   157.9               64      4000  ...   \n",
       "1                              80.85   156.2               32      4230  ...   \n",
       "2                              83.68   157.0               32      3500  ...   \n",
       "3                              74.78   159.8               64      3300  ...   \n",
       "4                              84.23   160.4               64      3750  ...   \n",
       "\n",
       "   os_name_Tizen  os_name_iOS  SIM Slot(s)_Dual SIM, GSM+CDMA  \\\n",
       "0              0            0                               0   \n",
       "1              0            0                               0   \n",
       "2              0            0                               0   \n",
       "3              0            0                               0   \n",
       "4              0            0                               0   \n",
       "\n",
       "   SIM Slot(s)_Dual SIM, GSM+GSM  SIM Slot(s)_Dual SIM, GSM+GSM, Dual VoLTE  \\\n",
       "0                              0                                          1   \n",
       "1                              0                                          1   \n",
       "2                              0                                          1   \n",
       "3                              1                                          0   \n",
       "4                              0                                          1   \n",
       "\n",
       "   SIM Slot(s)_Single SIM, GSM  Sim1_2G  Sim1_3G  Sim1_4G  Rating  \n",
       "0                            0        0        0        1     4.5  \n",
       "1                            0        0        0        1     4.5  \n",
       "2                            0        0        0        1     4.4  \n",
       "3                            0        0        0        1     4.3  \n",
       "4                            0        0        0        1     4.4  \n",
       "\n",
       "[5 rows x 88 columns]"
      ]
     },
     "execution_count": 204,
     "metadata": {},
     "output_type": "execute_result"
    }
   ],
   "source": [
    "data.head()"
   ]
  },
  {
   "cell_type": "code",
   "execution_count": 205,
   "metadata": {},
   "outputs": [
    {
     "data": {
      "text/html": [
       "<div>\n",
       "<style scoped>\n",
       "    .dataframe tbody tr th:only-of-type {\n",
       "        vertical-align: middle;\n",
       "    }\n",
       "\n",
       "    .dataframe tbody tr th {\n",
       "        vertical-align: top;\n",
       "    }\n",
       "\n",
       "    .dataframe thead th {\n",
       "        text-align: right;\n",
       "    }\n",
       "</style>\n",
       "<table border=\"1\" class=\"dataframe\">\n",
       "  <thead>\n",
       "    <tr style=\"text-align: right;\">\n",
       "      <th></th>\n",
       "      <th>PhoneId</th>\n",
       "      <th>Pixel Density</th>\n",
       "      <th>Screen Size</th>\n",
       "      <th>Weight</th>\n",
       "      <th>RAM</th>\n",
       "      <th>Processor_frequency</th>\n",
       "      <th>Screen to Body Ratio (calculated)</th>\n",
       "      <th>Height</th>\n",
       "      <th>Internal Memory</th>\n",
       "      <th>Capacity</th>\n",
       "      <th>...</th>\n",
       "      <th>os_name_Tizen</th>\n",
       "      <th>os_name_iOS</th>\n",
       "      <th>SIM Slot(s)_Dual SIM, GSM+CDMA</th>\n",
       "      <th>SIM Slot(s)_Dual SIM, GSM+GSM</th>\n",
       "      <th>SIM Slot(s)_Dual SIM, GSM+GSM, Dual VoLTE</th>\n",
       "      <th>SIM Slot(s)_Single SIM, GSM</th>\n",
       "      <th>Sim1_2G</th>\n",
       "      <th>Sim1_3G</th>\n",
       "      <th>Sim1_4G</th>\n",
       "      <th>Rating</th>\n",
       "    </tr>\n",
       "  </thead>\n",
       "  <tbody>\n",
       "    <tr>\n",
       "      <th>count</th>\n",
       "      <td>341.000000</td>\n",
       "      <td>341.000000</td>\n",
       "      <td>341.000000</td>\n",
       "      <td>341.000000</td>\n",
       "      <td>341.000000</td>\n",
       "      <td>341.000000</td>\n",
       "      <td>341.000000</td>\n",
       "      <td>341.000000</td>\n",
       "      <td>341.000000</td>\n",
       "      <td>341.000000</td>\n",
       "      <td>...</td>\n",
       "      <td>341.000000</td>\n",
       "      <td>341.000000</td>\n",
       "      <td>341.000000</td>\n",
       "      <td>341.000000</td>\n",
       "      <td>341.000000</td>\n",
       "      <td>341.000000</td>\n",
       "      <td>341.000000</td>\n",
       "      <td>341.000000</td>\n",
       "      <td>341.000000</td>\n",
       "      <td>341.000000</td>\n",
       "    </tr>\n",
       "    <tr>\n",
       "      <th>mean</th>\n",
       "      <td>232.970674</td>\n",
       "      <td>344.211144</td>\n",
       "      <td>5.462317</td>\n",
       "      <td>161.343109</td>\n",
       "      <td>11.120235</td>\n",
       "      <td>1.792551</td>\n",
       "      <td>72.353343</td>\n",
       "      <td>149.946394</td>\n",
       "      <td>46.369501</td>\n",
       "      <td>3191.307918</td>\n",
       "      <td>...</td>\n",
       "      <td>0.002933</td>\n",
       "      <td>0.055718</td>\n",
       "      <td>0.002933</td>\n",
       "      <td>0.759531</td>\n",
       "      <td>0.152493</td>\n",
       "      <td>0.085044</td>\n",
       "      <td>0.020528</td>\n",
       "      <td>0.020528</td>\n",
       "      <td>0.958944</td>\n",
       "      <td>4.072434</td>\n",
       "    </tr>\n",
       "    <tr>\n",
       "      <th>std</th>\n",
       "      <td>137.231746</td>\n",
       "      <td>88.161129</td>\n",
       "      <td>0.742529</td>\n",
       "      <td>22.305556</td>\n",
       "      <td>61.320855</td>\n",
       "      <td>0.451598</td>\n",
       "      <td>9.357839</td>\n",
       "      <td>9.192305</td>\n",
       "      <td>46.435453</td>\n",
       "      <td>932.533527</td>\n",
       "      <td>...</td>\n",
       "      <td>0.054153</td>\n",
       "      <td>0.229714</td>\n",
       "      <td>0.054153</td>\n",
       "      <td>0.427996</td>\n",
       "      <td>0.360026</td>\n",
       "      <td>0.279357</td>\n",
       "      <td>0.142006</td>\n",
       "      <td>0.142006</td>\n",
       "      <td>0.198711</td>\n",
       "      <td>0.377066</td>\n",
       "    </tr>\n",
       "    <tr>\n",
       "      <th>min</th>\n",
       "      <td>0.000000</td>\n",
       "      <td>143.000000</td>\n",
       "      <td>2.400000</td>\n",
       "      <td>58.000000</td>\n",
       "      <td>1.000000</td>\n",
       "      <td>1.000000</td>\n",
       "      <td>23.600000</td>\n",
       "      <td>115.600000</td>\n",
       "      <td>0.000000</td>\n",
       "      <td>1020.000000</td>\n",
       "      <td>...</td>\n",
       "      <td>0.000000</td>\n",
       "      <td>0.000000</td>\n",
       "      <td>0.000000</td>\n",
       "      <td>0.000000</td>\n",
       "      <td>0.000000</td>\n",
       "      <td>0.000000</td>\n",
       "      <td>0.000000</td>\n",
       "      <td>0.000000</td>\n",
       "      <td>0.000000</td>\n",
       "      <td>2.500000</td>\n",
       "    </tr>\n",
       "    <tr>\n",
       "      <th>25%</th>\n",
       "      <td>110.000000</td>\n",
       "      <td>282.000000</td>\n",
       "      <td>5.200000</td>\n",
       "      <td>150.000000</td>\n",
       "      <td>2.000000</td>\n",
       "      <td>1.400000</td>\n",
       "      <td>68.800000</td>\n",
       "      <td>146.200000</td>\n",
       "      <td>16.000000</td>\n",
       "      <td>2900.000000</td>\n",
       "      <td>...</td>\n",
       "      <td>0.000000</td>\n",
       "      <td>0.000000</td>\n",
       "      <td>0.000000</td>\n",
       "      <td>1.000000</td>\n",
       "      <td>0.000000</td>\n",
       "      <td>0.000000</td>\n",
       "      <td>0.000000</td>\n",
       "      <td>0.000000</td>\n",
       "      <td>1.000000</td>\n",
       "      <td>3.900000</td>\n",
       "    </tr>\n",
       "    <tr>\n",
       "      <th>50%</th>\n",
       "      <td>229.000000</td>\n",
       "      <td>326.000000</td>\n",
       "      <td>5.500000</td>\n",
       "      <td>161.000000</td>\n",
       "      <td>3.000000</td>\n",
       "      <td>1.800000</td>\n",
       "      <td>72.500000</td>\n",
       "      <td>151.300000</td>\n",
       "      <td>32.000000</td>\n",
       "      <td>3055.000000</td>\n",
       "      <td>...</td>\n",
       "      <td>0.000000</td>\n",
       "      <td>0.000000</td>\n",
       "      <td>0.000000</td>\n",
       "      <td>1.000000</td>\n",
       "      <td>0.000000</td>\n",
       "      <td>0.000000</td>\n",
       "      <td>0.000000</td>\n",
       "      <td>0.000000</td>\n",
       "      <td>1.000000</td>\n",
       "      <td>4.100000</td>\n",
       "    </tr>\n",
       "    <tr>\n",
       "      <th>75%</th>\n",
       "      <td>354.000000</td>\n",
       "      <td>403.000000</td>\n",
       "      <td>6.000000</td>\n",
       "      <td>172.000000</td>\n",
       "      <td>4.000000</td>\n",
       "      <td>2.200000</td>\n",
       "      <td>77.480000</td>\n",
       "      <td>156.200000</td>\n",
       "      <td>64.000000</td>\n",
       "      <td>3750.000000</td>\n",
       "      <td>...</td>\n",
       "      <td>0.000000</td>\n",
       "      <td>0.000000</td>\n",
       "      <td>0.000000</td>\n",
       "      <td>1.000000</td>\n",
       "      <td>0.000000</td>\n",
       "      <td>0.000000</td>\n",
       "      <td>0.000000</td>\n",
       "      <td>0.000000</td>\n",
       "      <td>1.000000</td>\n",
       "      <td>4.300000</td>\n",
       "    </tr>\n",
       "    <tr>\n",
       "      <th>max</th>\n",
       "      <td>472.000000</td>\n",
       "      <td>576.000000</td>\n",
       "      <td>6.590000</td>\n",
       "      <td>330.000000</td>\n",
       "      <td>512.000000</td>\n",
       "      <td>2.800000</td>\n",
       "      <td>87.660000</td>\n",
       "      <td>174.100000</td>\n",
       "      <td>512.000000</td>\n",
       "      <td>13000.000000</td>\n",
       "      <td>...</td>\n",
       "      <td>1.000000</td>\n",
       "      <td>1.000000</td>\n",
       "      <td>1.000000</td>\n",
       "      <td>1.000000</td>\n",
       "      <td>1.000000</td>\n",
       "      <td>1.000000</td>\n",
       "      <td>1.000000</td>\n",
       "      <td>1.000000</td>\n",
       "      <td>1.000000</td>\n",
       "      <td>5.000000</td>\n",
       "    </tr>\n",
       "  </tbody>\n",
       "</table>\n",
       "<p>8 rows × 88 columns</p>\n",
       "</div>"
      ],
      "text/plain": [
       "          PhoneId  Pixel Density  Screen Size      Weight         RAM  \\\n",
       "count  341.000000     341.000000   341.000000  341.000000  341.000000   \n",
       "mean   232.970674     344.211144     5.462317  161.343109   11.120235   \n",
       "std    137.231746      88.161129     0.742529   22.305556   61.320855   \n",
       "min      0.000000     143.000000     2.400000   58.000000    1.000000   \n",
       "25%    110.000000     282.000000     5.200000  150.000000    2.000000   \n",
       "50%    229.000000     326.000000     5.500000  161.000000    3.000000   \n",
       "75%    354.000000     403.000000     6.000000  172.000000    4.000000   \n",
       "max    472.000000     576.000000     6.590000  330.000000  512.000000   \n",
       "\n",
       "       Processor_frequency  Screen to Body Ratio (calculated)      Height  \\\n",
       "count           341.000000                         341.000000  341.000000   \n",
       "mean              1.792551                          72.353343  149.946394   \n",
       "std               0.451598                           9.357839    9.192305   \n",
       "min               1.000000                          23.600000  115.600000   \n",
       "25%               1.400000                          68.800000  146.200000   \n",
       "50%               1.800000                          72.500000  151.300000   \n",
       "75%               2.200000                          77.480000  156.200000   \n",
       "max               2.800000                          87.660000  174.100000   \n",
       "\n",
       "       Internal Memory      Capacity  ...  os_name_Tizen  os_name_iOS  \\\n",
       "count       341.000000    341.000000  ...     341.000000   341.000000   \n",
       "mean         46.369501   3191.307918  ...       0.002933     0.055718   \n",
       "std          46.435453    932.533527  ...       0.054153     0.229714   \n",
       "min           0.000000   1020.000000  ...       0.000000     0.000000   \n",
       "25%          16.000000   2900.000000  ...       0.000000     0.000000   \n",
       "50%          32.000000   3055.000000  ...       0.000000     0.000000   \n",
       "75%          64.000000   3750.000000  ...       0.000000     0.000000   \n",
       "max         512.000000  13000.000000  ...       1.000000     1.000000   \n",
       "\n",
       "       SIM Slot(s)_Dual SIM, GSM+CDMA  SIM Slot(s)_Dual SIM, GSM+GSM  \\\n",
       "count                      341.000000                     341.000000   \n",
       "mean                         0.002933                       0.759531   \n",
       "std                          0.054153                       0.427996   \n",
       "min                          0.000000                       0.000000   \n",
       "25%                          0.000000                       1.000000   \n",
       "50%                          0.000000                       1.000000   \n",
       "75%                          0.000000                       1.000000   \n",
       "max                          1.000000                       1.000000   \n",
       "\n",
       "       SIM Slot(s)_Dual SIM, GSM+GSM, Dual VoLTE  SIM Slot(s)_Single SIM, GSM  \\\n",
       "count                                 341.000000                   341.000000   \n",
       "mean                                    0.152493                     0.085044   \n",
       "std                                     0.360026                     0.279357   \n",
       "min                                     0.000000                     0.000000   \n",
       "25%                                     0.000000                     0.000000   \n",
       "50%                                     0.000000                     0.000000   \n",
       "75%                                     0.000000                     0.000000   \n",
       "max                                     1.000000                     1.000000   \n",
       "\n",
       "          Sim1_2G     Sim1_3G     Sim1_4G      Rating  \n",
       "count  341.000000  341.000000  341.000000  341.000000  \n",
       "mean     0.020528    0.020528    0.958944    4.072434  \n",
       "std      0.142006    0.142006    0.198711    0.377066  \n",
       "min      0.000000    0.000000    0.000000    2.500000  \n",
       "25%      0.000000    0.000000    1.000000    3.900000  \n",
       "50%      0.000000    0.000000    1.000000    4.100000  \n",
       "75%      0.000000    0.000000    1.000000    4.300000  \n",
       "max      1.000000    1.000000    1.000000    5.000000  \n",
       "\n",
       "[8 rows x 88 columns]"
      ]
     },
     "execution_count": 205,
     "metadata": {},
     "output_type": "execute_result"
    }
   ],
   "source": [
    "data.describe()"
   ]
  },
  {
   "cell_type": "code",
   "execution_count": 206,
   "metadata": {},
   "outputs": [
    {
     "data": {
      "text/plain": [
       "(341, 88)"
      ]
     },
     "execution_count": 206,
     "metadata": {},
     "output_type": "execute_result"
    }
   ],
   "source": [
    "data.shape"
   ]
  },
  {
   "cell_type": "code",
   "execution_count": 207,
   "metadata": {},
   "outputs": [],
   "source": [
    "Y=data['Rating']\n",
    "X=data.drop('Rating',axis=1)\n"
   ]
  },
  {
   "cell_type": "code",
   "execution_count": 208,
   "metadata": {},
   "outputs": [],
   "source": [
    "threshold=4.2\n",
    "data['Class'] = (data['Rating']>=threshold).astype(np.int)"
   ]
  },
  {
   "cell_type": "code",
   "execution_count": 209,
   "metadata": {},
   "outputs": [],
   "source": [
    "Y_binarised=data['Class'].values"
   ]
  },
  {
   "cell_type": "code",
   "execution_count": 210,
   "metadata": {},
   "outputs": [],
   "source": [
    "\n",
    "x_train,x_test,y_train,y_test = train_test_split(X,Y,random_state=1,stratify=Y_binarised)"
   ]
  },
  {
   "cell_type": "code",
   "execution_count": 211,
   "metadata": {},
   "outputs": [
    {
     "name": "stdout",
     "output_type": "stream",
     "text": [
      "(255, 87) (86, 87)\n"
     ]
    }
   ],
   "source": [
    "print(x_train.shape,x_test.shape)"
   ]
  },
  {
   "cell_type": "code",
   "execution_count": 212,
   "metadata": {},
   "outputs": [],
   "source": [
    "stdsc = StandardScaler()"
   ]
  },
  {
   "cell_type": "code",
   "execution_count": 213,
   "metadata": {},
   "outputs": [],
   "source": [
    "x_train_scaled=stdsc.fit_transform(x_train)"
   ]
  },
  {
   "cell_type": "code",
   "execution_count": 214,
   "metadata": {},
   "outputs": [],
   "source": [
    "x_test_scaled=stdsc.transform(x_test)"
   ]
  },
  {
   "cell_type": "code",
   "execution_count": 215,
   "metadata": {},
   "outputs": [
    {
     "data": {
      "text/plain": [
       "0      4.5\n",
       "1      4.5\n",
       "2      4.4\n",
       "3      4.3\n",
       "4      4.4\n",
       "      ... \n",
       "336    3.8\n",
       "337    3.9\n",
       "338    4.1\n",
       "339    3.6\n",
       "340    4.3\n",
       "Name: Rating, Length: 341, dtype: float64"
      ]
     },
     "execution_count": 215,
     "metadata": {},
     "output_type": "execute_result"
    }
   ],
   "source": [
    "Y"
   ]
  },
  {
   "cell_type": "code",
   "execution_count": 216,
   "metadata": {},
   "outputs": [],
   "source": [
    "mms=MinMaxScaler()"
   ]
  },
  {
   "cell_type": "code",
   "execution_count": 217,
   "metadata": {},
   "outputs": [],
   "source": [
    "y_train_scaled=mms.fit_transform(np.asarray(y_train).reshape(-1,1))\n",
    "y_test_scaled=mms.fit_transform(np.asarray(y_test).reshape(-1,1))"
   ]
  },
  {
   "cell_type": "code",
   "execution_count": 218,
   "metadata": {},
   "outputs": [
    {
     "data": {
      "text/plain": [
       "array([[0.88888889],\n",
       "       [0.72222222],\n",
       "       [0.77777778],\n",
       "       [0.33333333],\n",
       "       [0.16666667],\n",
       "       [0.88888889],\n",
       "       [0.77777778],\n",
       "       [0.55555556],\n",
       "       [0.5       ],\n",
       "       [0.61111111],\n",
       "       [0.        ],\n",
       "       [0.72222222],\n",
       "       [0.66666667],\n",
       "       [0.5       ],\n",
       "       [0.66666667],\n",
       "       [0.72222222],\n",
       "       [0.77777778],\n",
       "       [0.77777778],\n",
       "       [0.44444444],\n",
       "       [0.55555556],\n",
       "       [0.66666667],\n",
       "       [0.61111111],\n",
       "       [0.61111111],\n",
       "       [0.61111111],\n",
       "       [0.61111111],\n",
       "       [0.66666667],\n",
       "       [0.66666667],\n",
       "       [0.55555556],\n",
       "       [0.72222222],\n",
       "       [0.66666667],\n",
       "       [0.22222222],\n",
       "       [0.38888889],\n",
       "       [0.38888889],\n",
       "       [0.55555556],\n",
       "       [0.27777778],\n",
       "       [0.22222222],\n",
       "       [0.55555556],\n",
       "       [0.77777778],\n",
       "       [0.77777778],\n",
       "       [0.77777778],\n",
       "       [0.72222222],\n",
       "       [0.94444444],\n",
       "       [0.55555556],\n",
       "       [0.77777778],\n",
       "       [0.72222222],\n",
       "       [0.72222222],\n",
       "       [0.83333333],\n",
       "       [0.        ],\n",
       "       [0.27777778],\n",
       "       [0.72222222],\n",
       "       [1.        ],\n",
       "       [0.72222222],\n",
       "       [0.27777778],\n",
       "       [0.72222222],\n",
       "       [0.5       ],\n",
       "       [0.83333333],\n",
       "       [0.5       ],\n",
       "       [0.72222222],\n",
       "       [0.66666667],\n",
       "       [0.61111111],\n",
       "       [0.55555556],\n",
       "       [0.83333333],\n",
       "       [0.83333333],\n",
       "       [0.83333333],\n",
       "       [0.55555556],\n",
       "       [0.55555556],\n",
       "       [0.66666667],\n",
       "       [0.5       ],\n",
       "       [0.5       ],\n",
       "       [0.66666667],\n",
       "       [0.66666667],\n",
       "       [0.44444444],\n",
       "       [0.5       ],\n",
       "       [0.5       ],\n",
       "       [0.61111111],\n",
       "       [0.61111111],\n",
       "       [0.77777778],\n",
       "       [0.22222222],\n",
       "       [0.5       ],\n",
       "       [0.55555556],\n",
       "       [0.61111111],\n",
       "       [0.22222222],\n",
       "       [0.44444444],\n",
       "       [0.44444444],\n",
       "       [0.72222222],\n",
       "       [0.61111111]])"
      ]
     },
     "execution_count": 218,
     "metadata": {},
     "output_type": "execute_result"
    }
   ],
   "source": [
    "mms.transform(np.asarray(y_test).reshape(-1,1))"
   ]
  },
  {
   "cell_type": "code",
   "execution_count": 219,
   "metadata": {},
   "outputs": [],
   "source": [
    "scaled_threshold=list(mms.transform(np.array([threshold]).reshape(-1,1)))[0][0]"
   ]
  },
  {
   "cell_type": "code",
   "execution_count": 220,
   "metadata": {},
   "outputs": [
    {
     "data": {
      "text/plain": [
       "0.6666666666666667"
      ]
     },
     "execution_count": 220,
     "metadata": {},
     "output_type": "execute_result"
    }
   ],
   "source": [
    "scaled_threshold"
   ]
  },
  {
   "cell_type": "code",
   "execution_count": 221,
   "metadata": {},
   "outputs": [],
   "source": [
    "y_train_binarised = ((y_train_scaled>scaled_threshold).astype(np.int)).ravel()"
   ]
  },
  {
   "cell_type": "code",
   "execution_count": 222,
   "metadata": {},
   "outputs": [],
   "source": [
    "y_test_binarised=((y_test_scaled>scaled_threshold).astype(np.int)).ravel()"
   ]
  },
  {
   "cell_type": "markdown",
   "metadata": {},
   "source": [
    "# train on real data"
   ]
  },
  {
   "cell_type": "code",
   "execution_count": 232,
   "metadata": {},
   "outputs": [],
   "source": [
    "sn=SigmoidNeuron()"
   ]
  },
  {
   "cell_type": "code",
   "execution_count": 235,
   "metadata": {},
   "outputs": [
    {
     "data": {
      "application/vnd.jupyter.widget-view+json": {
       "model_id": "2a7864d6808e4ba3966a9b244d2c8ddb",
       "version_major": 2,
       "version_minor": 0
      },
      "text/plain": [
       "HBox(children=(IntProgress(value=0, max=4000), HTML(value='')))"
      ]
     },
     "metadata": {},
     "output_type": "display_data"
    },
    {
     "name": "stdout",
     "output_type": "stream",
     "text": [
      "\n"
     ]
    },
    {
     "data": {
      "image/png": "[encoded data removed]",
      "text/plain": [
       "<Figure size 432x288 with 1 Axes>"
      ]
     },
     "metadata": {
      "needs_background": "light"
     },
     "output_type": "display_data"
    }
   ],
   "source": [
    "sn.fit(x_train_scaled,y_train_scaled,epochs=4000,learning_rate=0.5,initialise=True,display_loss=True)"
   ]
  },
  {
   "cell_type": "code",
   "execution_count": 236,
   "metadata": {},
   "outputs": [],
   "source": [
    "y_pred_train = sn.predict(x_train_scaled)\n",
    "y_pred_test = sn.predict(x_test_scaled\n",
    "                        )"
   ]
  },
  {
   "cell_type": "code",
   "execution_count": 237,
   "metadata": {},
   "outputs": [],
   "source": [
    "y_pred_train_binarised = ((y_pred_train>scaled_threshold).astype(np.int)).ravel()\n",
    "y_pred_test_binarised = ((y_pred_test>scaled_threshold).astype(np.int)).ravel()"
   ]
  },
  {
   "cell_type": "code",
   "execution_count": 238,
   "metadata": {},
   "outputs": [],
   "source": [
    "from sklearn.metrics import accuracy_score"
   ]
  },
  {
   "cell_type": "code",
   "execution_count": 239,
   "metadata": {},
   "outputs": [],
   "source": [
    "accuracy_train=accuracy_score(y_pred_train_binarised,y_train_binarised)"
   ]
  },
  {
   "cell_type": "code",
   "execution_count": 240,
   "metadata": {},
   "outputs": [],
   "source": [
    "accuracy_test=accuracy_score(y_pred_test_binarised,y_test_binarised)"
   ]
  },
  {
   "cell_type": "code",
   "execution_count": 241,
   "metadata": {},
   "outputs": [
    {
     "name": "stdout",
     "output_type": "stream",
     "text": [
      "train acc: 0.6745098039215687 test acc: 0.5232558139534884\n"
     ]
    }
   ],
   "source": [
    "print('train acc:',accuracy_train,'test acc:',accuracy_test)"
   ]
  },
  {
   "cell_type": "markdown",
   "metadata": {},
   "source": [
    "# exersices\n",
    "\n"
   ]
  },
  {
   "cell_type": "markdown",
   "metadata": {},
   "source": [
    "1- Plot on a diffrent datasets\n",
    "2- diffrent toy points\n",
    "3- try diffrent hyperparameters\n",
    "4- co-relate between (epachs,lr,mean square error, accuracy)\n",
    "\n",
    "5-"
   ]
  },
  {
   "cell_type": "code",
   "execution_count": 269,
   "metadata": {},
   "outputs": [],
   "source": [
    "y = []\n",
    "for i in range(1,8):\n",
    "    y.append(1/(2**i))"
   ]
  },
  {
   "cell_type": "code",
   "execution_count": 270,
   "metadata": {},
   "outputs": [],
   "source": [
    "y.append(y[6])"
   ]
  },
  {
   "cell_type": "code",
   "execution_count": 271,
   "metadata": {},
   "outputs": [
    {
     "data": {
      "text/plain": [
       "[0.5, 0.25, 0.125, 0.0625, 0.03125, 0.015625, 0.0078125, 0.0078125]"
      ]
     },
     "execution_count": 271,
     "metadata": {},
     "output_type": "execute_result"
    }
   ],
   "source": [
    "y"
   ]
  },
  {
   "cell_type": "code",
   "execution_count": 272,
   "metadata": {},
   "outputs": [],
   "source": [
    "y_hat = y[::-1]"
   ]
  },
  {
   "cell_type": "code",
   "execution_count": 274,
   "metadata": {},
   "outputs": [
    {
     "data": {
      "text/plain": [
       "[0.0078125, 0.0078125, 0.015625, 0.03125, 0.0625, 0.125, 0.25, 0.5]"
      ]
     },
     "execution_count": 274,
     "metadata": {},
     "output_type": "execute_result"
    }
   ],
   "source": [
    "y_hat"
   ]
  },
  {
   "cell_type": "code",
   "execution_count": 284,
   "metadata": {},
   "outputs": [],
   "source": [
    "KLD = np.sum((y*np.log2(y))-np.sum(y*np.log2(y_hat)))"
   ]
  },
  {
   "cell_type": "code",
   "execution_count": 285,
   "metadata": {},
   "outputs": [
    {
     "data": {
      "text/plain": [
       "50.078125"
      ]
     },
     "execution_count": 285,
     "metadata": {},
     "output_type": "execute_result"
    }
   ],
   "source": [
    "KLD"
   ]
  },
  {
   "cell_type": "markdown",
   "metadata": {},
   "source": [
    "Level 1 competition link: https://www.kaggle.com/t/bde616c5bf8c44d8bdae110ce541e8d5\n",
    "\n",
    "Level 2 competiton link:  https://www.kaggle.com/t/5c12672a52bc4f1ab7e5e82a390af200\n",
    "\n",
    "Level 3:  https://www.kaggle.com/t/657b2899610a45efbf46d8c3c8788be6\n",
    "\n",
    "Level 4: https://www.kaggle.com/t/8036923f3f454b59beed0d83fdb8a3a3\n",
    "\n",
    "Level 5: https://www.kaggle.com/t/474ddf8893fe4ed78a36ca21ae3c9e12"
   ]
  },
  {
   "cell_type": "code",
   "execution_count": 286,
   "metadata": {},
   "outputs": [],
   "source": [
    "a=np.asarray([2.1,4.5,1.1])"
   ]
  },
  {
   "cell_type": "code",
   "execution_count": 287,
   "metadata": {},
   "outputs": [],
   "source": [
    "def softmax(a):\n",
    "    a_exp=np.exp(a)\n",
    "    return (a_exp/(np.sum(a_exp)))"
   ]
  },
  {
   "cell_type": "code",
   "execution_count": 288,
   "metadata": {},
   "outputs": [
    {
     "data": {
      "text/plain": [
       "array([0.08070337, 0.88960752, 0.02968911])"
      ]
     },
     "execution_count": 288,
     "metadata": {},
     "output_type": "execute_result"
    }
   ],
   "source": [
    "softmax(a)"
   ]
  },
  {
   "cell_type": "code",
   "execution_count": null,
   "metadata": {},
   "outputs": [],
   "source": []
  }
 ],
 "metadata": {
  "kernelspec": {
   "display_name": "Python 3",
   "language": "python",
   "name": "python3"
  },
  "language_info": {
   "codemirror_mode": {
    "name": "ipython",
    "version": 3
   },
   "file_extension": ".py",
   "mimetype": "text/x-python",
   "name": "python",
   "nbconvert_exporter": "python",
   "pygments_lexer": "ipython3",
   "version": "3.7.4"
  }
 },
 "nbformat": 4,
 "nbformat_minor": 4
}
