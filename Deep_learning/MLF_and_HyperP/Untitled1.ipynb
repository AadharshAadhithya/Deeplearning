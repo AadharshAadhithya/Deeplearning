{
 "cells": [
  {
   "cell_type": "code",
   "execution_count": 2,
   "metadata": {},
   "outputs": [],
   "source": [
    "import torchvision\n",
    "from torchvision import transforms,datasets\n",
    "\n",
    "import torch\n",
    "import matplotlib.pyplot as plt\n",
    "import numpy as np\n",
    "\n",
    "import torch.nn as nn\n",
    "import torch.optim as optim\n",
    "import seaborn as sns\n",
    "\n",
    "import mlflow\n",
    "import mlflow.pytorch"
   ]
  },
  {
   "cell_type": "markdown",
   "metadata": {},
   "source": [
    "# Params\n"
   ]
  },
  {
   "cell_type": "code",
   "execution_count": 3,
   "metadata": {},
   "outputs": [],
   "source": [
    "class Params(object):\n",
    "    def __init__(self,batch_size,epochs,seed,log_interval):\n",
    "        self.batch_size = batch_size\n",
    "        self.epochs = epochs\n",
    "        self.seed = seed\n",
    "        self.log_interval = log_interval\n",
    "        \n",
    "args = Params(256,4,0,20)"
   ]
  },
  {
   "cell_type": "markdown",
   "metadata": {},
   "source": [
    "# Dataset"
   ]
  },
  {
   "cell_type": "code",
   "execution_count": 7,
   "metadata": {},
   "outputs": [],
   "source": [
    "transform = transforms.Compose(\n",
    "    [transforms.ToTensor(),\n",
    "    transforms.Normalize((0.1307),(0.3081))]\n",
    "\n",
    ")\n",
    "\n",
    "train_set = datasets.MNIST('../data',train=True,download=True,\n",
    "                          transform=transform)\n",
    "test_set = datasets.MNIST('../data',train=False , download = True,\n",
    "                        transform=transform)\n",
    "\n",
    "trainloader = torch.utils.data.DataLoader(train_set,batch_size=args.batch_size,shuffle=True)\n",
    "testloader = torch.utils.data.DataLoader(test_set,batch_size = args.batch_size,shuffle=False)\n"
   ]
  },
  {
   "cell_type": "markdown",
   "metadata": {},
   "source": [
    "# Model"
   ]
  },
  {
   "cell_type": "code",
   "execution_count": 10,
   "metadata": {},
   "outputs": [],
   "source": [
    "class Model(nn.Module):\n",
    "    def __init__(self,nH=32):\n",
    "        super(Model,self).__init__()\n",
    "        self.classifier = nn.Sequential(\n",
    "            nn.Linear(784,nH),\n",
    "            nn.ReLU(),\n",
    "            nn.Linear(nH,10)\n",
    "            \n",
    "        \n",
    "        )\n",
    "        \n",
    "    def forward(self,x):\n",
    "        x = x.view(x.size(0),-1)\n",
    "        x= self.classifier(x)\n",
    "        return x\n",
    "    "
   ]
  },
  {
   "cell_type": "code",
   "execution_count": 11,
   "metadata": {},
   "outputs": [],
   "source": [
    "def train(epoch):\n",
    "    \n",
    "    model.train()\n",
    "    \n",
    "    for batch_id,data in enumerate(trainloader):\n",
    "        inputs,labels = trainloader\n",
    "        \n",
    "        opt.zero_grad()\n",
    "        outputs = model(inputs)\n",
    "        loss=loss_fn(outputs,labels)\n",
    "        loss.backward()\n",
    "        opt.step()\n",
    "        \n",
    "        if batch_id % args.log_interval==0:\n",
    "            pos = epoch*len(trainloader)+batch_id\n",
    "            mlflow.log_metric('train_loss',loss.data.item()/len(inputs)*1000)\n",
    "            \n",
    "            print('Train Epoch: {} [ {}/{} ({:.0f}%)]\\tLoss: {:.3f}'.format(\n",
    "                \n",
    "                epoch,batch_id*len(inputs),len(trainloader.dataset),100. *batch_id/len(trainloader),loss.data.item()\n",
    "            \n",
    "            \n",
    "            ))\n",
    "                              \n",
    "    "
   ]
  },
  {
   "cell_type": "code",
   "execution_count": null,
   "metadata": {},
   "outputs": [],
   "source": [
    "def test(epoch):\n",
    "    model.eval()\n",
    "    test_loss=0\n",
    "    correct=0\n",
    "    confusion_matrix = np.zeros([10,10])\n",
    "    \n",
    "    with torch.no_grad():\n",
    "        \n",
    "        for inputs,labels in testloader:\n",
    "            outputs = model(inputs)\n",
    "            test_loss +=loss_fn(outputs,labels).data.item()\n",
    "            pred = outputs.data.max(1)[1]\n",
    "            correct += pred.eq(labels.data).sum().item()\n",
    "            \n",
    "            for x,y in zip(pred.numpy(),labels.numpy()):\n",
    "                confusion_matrix[x][y] +=1"
   ]
  }
 ],
 "metadata": {
  "kernelspec": {
   "display_name": "Python 3",
   "language": "python",
   "name": "python3"
  },
  "language_info": {
   "codemirror_mode": {
    "name": "ipython",
    "version": 3
   },
   "file_extension": ".py",
   "mimetype": "text/x-python",
   "name": "python",
   "nbconvert_exporter": "python",
   "pygments_lexer": "ipython3",
   "version": "3.7.4"
  }
 },
 "nbformat": 4,
 "nbformat_minor": 4
}
